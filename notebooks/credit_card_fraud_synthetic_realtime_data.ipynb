{
 "cells": [
  {
   "cell_type": "code",
   "execution_count": 3,
   "metadata": {},
   "outputs": [],
   "source": [
    "import pandas as pd"
   ]
  },
  {
   "cell_type": "code",
   "execution_count": 23,
   "metadata": {},
   "outputs": [],
   "source": [
    "df = pd.read_csv(\"../data/creditcard.csv\")"
   ]
  },
  {
   "cell_type": "markdown",
   "metadata": {},
   "source": [
    "creating synthetic data for streaming to Kafka"
   ]
  },
  {
   "cell_type": "code",
   "execution_count": 24,
   "metadata": {},
   "outputs": [
    {
     "name": "stdout",
     "output_type": "stream",
     "text": [
      "Original dataset size: (284807, 31)\n",
      "Combined dataset size: (294807, 31)\n"
     ]
    }
   ],
   "source": [
    "import pandas as pd\n",
    "from sklearn.datasets import make_classification\n",
    "\n",
    "# Step 2: Separate features and target\n",
    "X = df.drop(columns=[\"Class\"])\n",
    "y = df[\"Class\"]\n",
    "\n",
    "# Step 3: Generate synthetic data\n",
    "n_features = X.shape[1]\n",
    "n_informative = int(0.6 * n_features)\n",
    "n_redundant = int(0.2 * n_features)\n",
    "\n",
    "X_synthetic, y_synthetic = make_classification(\n",
    "    n_samples=10000,\n",
    "    n_features=n_features,\n",
    "    n_informative=n_informative,\n",
    "    n_redundant=n_redundant,\n",
    "    weights=[0.995, 0.005],  # Maintain similar class imbalance\n",
    "    random_state=42\n",
    ")\n",
    "\n",
    "# Step 4: Create DataFrame for synthetic data\n",
    "synthetic_df = pd.DataFrame(X_synthetic, columns=X.columns)\n",
    "synthetic_df['Class'] = y_synthetic\n",
    "\n",
    "# Step 5: Combine with the original dataset\n",
    "combined_df = pd.concat([df, synthetic_df], ignore_index=True)\n",
    "\n",
    "print(f\"Original dataset size: {df.shape}\")\n",
    "print(f\"Combined dataset size: {combined_df.shape}\")"
   ]
  },
  {
   "cell_type": "code",
   "execution_count": 25,
   "metadata": {},
   "outputs": [
    {
     "data": {
      "text/html": [
       "<div>\n",
       "<style scoped>\n",
       "    .dataframe tbody tr th:only-of-type {\n",
       "        vertical-align: middle;\n",
       "    }\n",
       "\n",
       "    .dataframe tbody tr th {\n",
       "        vertical-align: top;\n",
       "    }\n",
       "\n",
       "    .dataframe thead th {\n",
       "        text-align: right;\n",
       "    }\n",
       "</style>\n",
       "<table border=\"1\" class=\"dataframe\">\n",
       "  <thead>\n",
       "    <tr style=\"text-align: right;\">\n",
       "      <th></th>\n",
       "      <th>Time</th>\n",
       "      <th>V1</th>\n",
       "      <th>V2</th>\n",
       "      <th>V3</th>\n",
       "      <th>V4</th>\n",
       "      <th>V5</th>\n",
       "      <th>V6</th>\n",
       "      <th>V7</th>\n",
       "      <th>V8</th>\n",
       "      <th>V9</th>\n",
       "      <th>...</th>\n",
       "      <th>V21</th>\n",
       "      <th>V22</th>\n",
       "      <th>V23</th>\n",
       "      <th>V24</th>\n",
       "      <th>V25</th>\n",
       "      <th>V26</th>\n",
       "      <th>V27</th>\n",
       "      <th>V28</th>\n",
       "      <th>Amount</th>\n",
       "      <th>Class</th>\n",
       "    </tr>\n",
       "  </thead>\n",
       "  <tbody>\n",
       "    <tr>\n",
       "      <th>0</th>\n",
       "      <td>-1.005272</td>\n",
       "      <td>4.075129</td>\n",
       "      <td>-2.764631</td>\n",
       "      <td>1.644818</td>\n",
       "      <td>1.165627</td>\n",
       "      <td>-0.071879</td>\n",
       "      <td>-2.643931</td>\n",
       "      <td>-0.935485</td>\n",
       "      <td>2.558267</td>\n",
       "      <td>0.716198</td>\n",
       "      <td>...</td>\n",
       "      <td>-1.320460</td>\n",
       "      <td>-4.671398</td>\n",
       "      <td>1.167294</td>\n",
       "      <td>1.929147</td>\n",
       "      <td>1.349388</td>\n",
       "      <td>0.253819</td>\n",
       "      <td>4.294589</td>\n",
       "      <td>3.750721</td>\n",
       "      <td>-2.145789</td>\n",
       "      <td>0</td>\n",
       "    </tr>\n",
       "    <tr>\n",
       "      <th>1</th>\n",
       "      <td>3.863234</td>\n",
       "      <td>-0.597283</td>\n",
       "      <td>4.036636</td>\n",
       "      <td>-1.282080</td>\n",
       "      <td>-1.575002</td>\n",
       "      <td>2.501795</td>\n",
       "      <td>-0.481181</td>\n",
       "      <td>-0.918403</td>\n",
       "      <td>-2.530954</td>\n",
       "      <td>0.141643</td>\n",
       "      <td>...</td>\n",
       "      <td>7.555955</td>\n",
       "      <td>3.707745</td>\n",
       "      <td>-0.685794</td>\n",
       "      <td>-3.737507</td>\n",
       "      <td>1.605897</td>\n",
       "      <td>1.552166</td>\n",
       "      <td>-0.407718</td>\n",
       "      <td>0.445419</td>\n",
       "      <td>-0.789505</td>\n",
       "      <td>0</td>\n",
       "    </tr>\n",
       "    <tr>\n",
       "      <th>2</th>\n",
       "      <td>0.040658</td>\n",
       "      <td>-0.291049</td>\n",
       "      <td>-3.225684</td>\n",
       "      <td>-1.714998</td>\n",
       "      <td>-2.651204</td>\n",
       "      <td>-6.220462</td>\n",
       "      <td>-2.383984</td>\n",
       "      <td>-1.228089</td>\n",
       "      <td>0.371717</td>\n",
       "      <td>-1.302734</td>\n",
       "      <td>...</td>\n",
       "      <td>-0.918258</td>\n",
       "      <td>2.960716</td>\n",
       "      <td>1.215964</td>\n",
       "      <td>-1.355824</td>\n",
       "      <td>4.453476</td>\n",
       "      <td>0.731030</td>\n",
       "      <td>1.486228</td>\n",
       "      <td>0.455704</td>\n",
       "      <td>1.832036</td>\n",
       "      <td>0</td>\n",
       "    </tr>\n",
       "    <tr>\n",
       "      <th>3</th>\n",
       "      <td>-1.229750</td>\n",
       "      <td>5.441972</td>\n",
       "      <td>-5.987838</td>\n",
       "      <td>1.058243</td>\n",
       "      <td>2.404318</td>\n",
       "      <td>2.997089</td>\n",
       "      <td>-4.139572</td>\n",
       "      <td>3.030406</td>\n",
       "      <td>-0.821636</td>\n",
       "      <td>0.415745</td>\n",
       "      <td>...</td>\n",
       "      <td>-3.057280</td>\n",
       "      <td>-3.990113</td>\n",
       "      <td>0.687736</td>\n",
       "      <td>0.869378</td>\n",
       "      <td>2.872223</td>\n",
       "      <td>-3.166167</td>\n",
       "      <td>-3.161978</td>\n",
       "      <td>-0.430065</td>\n",
       "      <td>-1.307947</td>\n",
       "      <td>0</td>\n",
       "    </tr>\n",
       "    <tr>\n",
       "      <th>4</th>\n",
       "      <td>1.186835</td>\n",
       "      <td>4.171696</td>\n",
       "      <td>2.563339</td>\n",
       "      <td>1.491820</td>\n",
       "      <td>2.314844</td>\n",
       "      <td>2.243018</td>\n",
       "      <td>1.246459</td>\n",
       "      <td>0.213166</td>\n",
       "      <td>-5.635583</td>\n",
       "      <td>1.380369</td>\n",
       "      <td>...</td>\n",
       "      <td>-4.885634</td>\n",
       "      <td>-2.415798</td>\n",
       "      <td>0.313980</td>\n",
       "      <td>-1.827367</td>\n",
       "      <td>-0.909375</td>\n",
       "      <td>3.832963</td>\n",
       "      <td>4.678861</td>\n",
       "      <td>2.478731</td>\n",
       "      <td>-1.798397</td>\n",
       "      <td>0</td>\n",
       "    </tr>\n",
       "  </tbody>\n",
       "</table>\n",
       "<p>5 rows × 31 columns</p>\n",
       "</div>"
      ],
      "text/plain": [
       "       Time        V1        V2        V3        V4        V5        V6  \\\n",
       "0 -1.005272  4.075129 -2.764631  1.644818  1.165627 -0.071879 -2.643931   \n",
       "1  3.863234 -0.597283  4.036636 -1.282080 -1.575002  2.501795 -0.481181   \n",
       "2  0.040658 -0.291049 -3.225684 -1.714998 -2.651204 -6.220462 -2.383984   \n",
       "3 -1.229750  5.441972 -5.987838  1.058243  2.404318  2.997089 -4.139572   \n",
       "4  1.186835  4.171696  2.563339  1.491820  2.314844  2.243018  1.246459   \n",
       "\n",
       "         V7        V8        V9  ...       V21       V22       V23       V24  \\\n",
       "0 -0.935485  2.558267  0.716198  ... -1.320460 -4.671398  1.167294  1.929147   \n",
       "1 -0.918403 -2.530954  0.141643  ...  7.555955  3.707745 -0.685794 -3.737507   \n",
       "2 -1.228089  0.371717 -1.302734  ... -0.918258  2.960716  1.215964 -1.355824   \n",
       "3  3.030406 -0.821636  0.415745  ... -3.057280 -3.990113  0.687736  0.869378   \n",
       "4  0.213166 -5.635583  1.380369  ... -4.885634 -2.415798  0.313980 -1.827367   \n",
       "\n",
       "        V25       V26       V27       V28    Amount  Class  \n",
       "0  1.349388  0.253819  4.294589  3.750721 -2.145789      0  \n",
       "1  1.605897  1.552166 -0.407718  0.445419 -0.789505      0  \n",
       "2  4.453476  0.731030  1.486228  0.455704  1.832036      0  \n",
       "3  2.872223 -3.166167 -3.161978 -0.430065 -1.307947      0  \n",
       "4 -0.909375  3.832963  4.678861  2.478731 -1.798397      0  \n",
       "\n",
       "[5 rows x 31 columns]"
      ]
     },
     "execution_count": 25,
     "metadata": {},
     "output_type": "execute_result"
    }
   ],
   "source": [
    "synthetic_df.head()"
   ]
  },
  {
   "cell_type": "code",
   "execution_count": 26,
   "metadata": {},
   "outputs": [
    {
     "data": {
      "text/plain": [
       "Class\n",
       "0    9895\n",
       "1     105\n",
       "Name: count, dtype: int64"
      ]
     },
     "execution_count": 26,
     "metadata": {},
     "output_type": "execute_result"
    }
   ],
   "source": [
    "synthetic_df['Class'].value_counts()"
   ]
  },
  {
   "cell_type": "code",
   "execution_count": 27,
   "metadata": {},
   "outputs": [
    {
     "data": {
      "image/png": "[encoded data removed]",
      "text/plain": [
       "<Figure size 800x500 with 1 Axes>"
      ]
     },
     "metadata": {},
     "output_type": "display_data"
    }
   ],
   "source": [
    "import matplotlib.pyplot as plt\n",
    "\n",
    "# Generate value counts\n",
    "class_counts = synthetic_df['Class'].value_counts()\n",
    "\n",
    "# Plot the bar chart\n",
    "plt.figure(figsize=(8, 5))\n",
    "class_counts.plot(kind='bar', color='skyblue')\n",
    "plt.title('Distribution of Class Values')\n",
    "plt.xlabel('Class')\n",
    "plt.ylabel('Count')\n",
    "plt.xticks(rotation=0)\n",
    "plt.show()"
   ]
  },
  {
   "cell_type": "code",
   "execution_count": 28,
   "metadata": {},
   "outputs": [],
   "source": [
    "from sklearn.preprocessing import StandardScaler\n",
    "\n",
    "# Apply the same scaler used during training\n",
    "scaler = StandardScaler()\n",
    "synthetic_df['scaled_amount'] = scaler.fit_transform(synthetic_df[['Amount']])\n",
    "synthetic_df = synthetic_df.drop('Amount', axis=1)"
   ]
  },
  {
   "cell_type": "code",
   "execution_count": 29,
   "metadata": {},
   "outputs": [
    {
     "data": {
      "text/html": [
       "<div>\n",
       "<style scoped>\n",
       "    .dataframe tbody tr th:only-of-type {\n",
       "        vertical-align: middle;\n",
       "    }\n",
       "\n",
       "    .dataframe tbody tr th {\n",
       "        vertical-align: top;\n",
       "    }\n",
       "\n",
       "    .dataframe thead th {\n",
       "        text-align: right;\n",
       "    }\n",
       "</style>\n",
       "<table border=\"1\" class=\"dataframe\">\n",
       "  <thead>\n",
       "    <tr style=\"text-align: right;\">\n",
       "      <th></th>\n",
       "      <th>Time</th>\n",
       "      <th>V1</th>\n",
       "      <th>V2</th>\n",
       "      <th>V3</th>\n",
       "      <th>V4</th>\n",
       "      <th>V5</th>\n",
       "      <th>V6</th>\n",
       "      <th>V7</th>\n",
       "      <th>V8</th>\n",
       "      <th>V9</th>\n",
       "      <th>...</th>\n",
       "      <th>V21</th>\n",
       "      <th>V22</th>\n",
       "      <th>V23</th>\n",
       "      <th>V24</th>\n",
       "      <th>V25</th>\n",
       "      <th>V26</th>\n",
       "      <th>V27</th>\n",
       "      <th>V28</th>\n",
       "      <th>Class</th>\n",
       "      <th>scaled_amount</th>\n",
       "    </tr>\n",
       "  </thead>\n",
       "  <tbody>\n",
       "    <tr>\n",
       "      <th>0</th>\n",
       "      <td>-1.005272</td>\n",
       "      <td>4.075129</td>\n",
       "      <td>-2.764631</td>\n",
       "      <td>1.644818</td>\n",
       "      <td>1.165627</td>\n",
       "      <td>-0.071879</td>\n",
       "      <td>-2.643931</td>\n",
       "      <td>-0.935485</td>\n",
       "      <td>2.558267</td>\n",
       "      <td>0.716198</td>\n",
       "      <td>...</td>\n",
       "      <td>-1.320460</td>\n",
       "      <td>-4.671398</td>\n",
       "      <td>1.167294</td>\n",
       "      <td>1.929147</td>\n",
       "      <td>1.349388</td>\n",
       "      <td>0.253819</td>\n",
       "      <td>4.294589</td>\n",
       "      <td>3.750721</td>\n",
       "      <td>0</td>\n",
       "      <td>-0.495277</td>\n",
       "    </tr>\n",
       "    <tr>\n",
       "      <th>1</th>\n",
       "      <td>3.863234</td>\n",
       "      <td>-0.597283</td>\n",
       "      <td>4.036636</td>\n",
       "      <td>-1.282080</td>\n",
       "      <td>-1.575002</td>\n",
       "      <td>2.501795</td>\n",
       "      <td>-0.481181</td>\n",
       "      <td>-0.918403</td>\n",
       "      <td>-2.530954</td>\n",
       "      <td>0.141643</td>\n",
       "      <td>...</td>\n",
       "      <td>7.555955</td>\n",
       "      <td>3.707745</td>\n",
       "      <td>-0.685794</td>\n",
       "      <td>-3.737507</td>\n",
       "      <td>1.605897</td>\n",
       "      <td>1.552166</td>\n",
       "      <td>-0.407718</td>\n",
       "      <td>0.445419</td>\n",
       "      <td>0</td>\n",
       "      <td>0.079818</td>\n",
       "    </tr>\n",
       "    <tr>\n",
       "      <th>2</th>\n",
       "      <td>0.040658</td>\n",
       "      <td>-0.291049</td>\n",
       "      <td>-3.225684</td>\n",
       "      <td>-1.714998</td>\n",
       "      <td>-2.651204</td>\n",
       "      <td>-6.220462</td>\n",
       "      <td>-2.383984</td>\n",
       "      <td>-1.228089</td>\n",
       "      <td>0.371717</td>\n",
       "      <td>-1.302734</td>\n",
       "      <td>...</td>\n",
       "      <td>-0.918258</td>\n",
       "      <td>2.960716</td>\n",
       "      <td>1.215964</td>\n",
       "      <td>-1.355824</td>\n",
       "      <td>4.453476</td>\n",
       "      <td>0.731030</td>\n",
       "      <td>1.486228</td>\n",
       "      <td>0.455704</td>\n",
       "      <td>0</td>\n",
       "      <td>1.191410</td>\n",
       "    </tr>\n",
       "    <tr>\n",
       "      <th>3</th>\n",
       "      <td>-1.229750</td>\n",
       "      <td>5.441972</td>\n",
       "      <td>-5.987838</td>\n",
       "      <td>1.058243</td>\n",
       "      <td>2.404318</td>\n",
       "      <td>2.997089</td>\n",
       "      <td>-4.139572</td>\n",
       "      <td>3.030406</td>\n",
       "      <td>-0.821636</td>\n",
       "      <td>0.415745</td>\n",
       "      <td>...</td>\n",
       "      <td>-3.057280</td>\n",
       "      <td>-3.990113</td>\n",
       "      <td>0.687736</td>\n",
       "      <td>0.869378</td>\n",
       "      <td>2.872223</td>\n",
       "      <td>-3.166167</td>\n",
       "      <td>-3.161978</td>\n",
       "      <td>-0.430065</td>\n",
       "      <td>0</td>\n",
       "      <td>-0.140014</td>\n",
       "    </tr>\n",
       "    <tr>\n",
       "      <th>4</th>\n",
       "      <td>1.186835</td>\n",
       "      <td>4.171696</td>\n",
       "      <td>2.563339</td>\n",
       "      <td>1.491820</td>\n",
       "      <td>2.314844</td>\n",
       "      <td>2.243018</td>\n",
       "      <td>1.246459</td>\n",
       "      <td>0.213166</td>\n",
       "      <td>-5.635583</td>\n",
       "      <td>1.380369</td>\n",
       "      <td>...</td>\n",
       "      <td>-4.885634</td>\n",
       "      <td>-2.415798</td>\n",
       "      <td>0.313980</td>\n",
       "      <td>-1.827367</td>\n",
       "      <td>-0.909375</td>\n",
       "      <td>3.832963</td>\n",
       "      <td>4.678861</td>\n",
       "      <td>2.478731</td>\n",
       "      <td>0</td>\n",
       "      <td>-0.347975</td>\n",
       "    </tr>\n",
       "  </tbody>\n",
       "</table>\n",
       "<p>5 rows × 31 columns</p>\n",
       "</div>"
      ],
      "text/plain": [
       "       Time        V1        V2        V3        V4        V5        V6  \\\n",
       "0 -1.005272  4.075129 -2.764631  1.644818  1.165627 -0.071879 -2.643931   \n",
       "1  3.863234 -0.597283  4.036636 -1.282080 -1.575002  2.501795 -0.481181   \n",
       "2  0.040658 -0.291049 -3.225684 -1.714998 -2.651204 -6.220462 -2.383984   \n",
       "3 -1.229750  5.441972 -5.987838  1.058243  2.404318  2.997089 -4.139572   \n",
       "4  1.186835  4.171696  2.563339  1.491820  2.314844  2.243018  1.246459   \n",
       "\n",
       "         V7        V8        V9  ...       V21       V22       V23       V24  \\\n",
       "0 -0.935485  2.558267  0.716198  ... -1.320460 -4.671398  1.167294  1.929147   \n",
       "1 -0.918403 -2.530954  0.141643  ...  7.555955  3.707745 -0.685794 -3.737507   \n",
       "2 -1.228089  0.371717 -1.302734  ... -0.918258  2.960716  1.215964 -1.355824   \n",
       "3  3.030406 -0.821636  0.415745  ... -3.057280 -3.990113  0.687736  0.869378   \n",
       "4  0.213166 -5.635583  1.380369  ... -4.885634 -2.415798  0.313980 -1.827367   \n",
       "\n",
       "        V25       V26       V27       V28  Class  scaled_amount  \n",
       "0  1.349388  0.253819  4.294589  3.750721      0      -0.495277  \n",
       "1  1.605897  1.552166 -0.407718  0.445419      0       0.079818  \n",
       "2  4.453476  0.731030  1.486228  0.455704      0       1.191410  \n",
       "3  2.872223 -3.166167 -3.161978 -0.430065      0      -0.140014  \n",
       "4 -0.909375  3.832963  4.678861  2.478731      0      -0.347975  \n",
       "\n",
       "[5 rows x 31 columns]"
      ]
     },
     "execution_count": 29,
     "metadata": {},
     "output_type": "execute_result"
    }
   ],
   "source": [
    "synthetic_df.head()"
   ]
  },
  {
   "cell_type": "code",
   "execution_count": 30,
   "metadata": {},
   "outputs": [],
   "source": [
    "synthetic_df.rename(columns={'scaled_amount': 'Amount'}, inplace=True)"
   ]
  },
  {
   "cell_type": "code",
   "execution_count": 31,
   "metadata": {},
   "outputs": [],
   "source": [
    "import joblib\n",
    "\n",
    "# Load the trained model from the .pkl file\n",
    "model = joblib.load('../models/credit_fraud_xgboost_model.pkl')"
   ]
  },
  {
   "cell_type": "code",
   "execution_count": 32,
   "metadata": {},
   "outputs": [],
   "source": [
    "X_new = synthetic_df.drop(columns=['Class'])  # Assuming 'Class' is the target\n",
    "y_true = synthetic_df['Class']\n",
    "\n",
    "# Generate predictions\n",
    "y_pred = model.predict(X_new)"
   ]
  },
  {
   "cell_type": "code",
   "execution_count": 33,
   "metadata": {},
   "outputs": [
    {
     "name": "stdout",
     "output_type": "stream",
     "text": [
      "Confusion Matrix:\n",
      "[[9887    8]\n",
      " [ 105    0]]\n",
      "\n",
      "Classification Report:\n",
      "              precision    recall  f1-score   support\n",
      "\n",
      "           0       0.99      1.00      0.99      9895\n",
      "           1       0.00      0.00      0.00       105\n",
      "\n",
      "    accuracy                           0.99     10000\n",
      "   macro avg       0.49      0.50      0.50     10000\n",
      "weighted avg       0.98      0.99      0.98     10000\n",
      "\n",
      "\n",
      "Accuracy Score: 0.9887\n"
     ]
    }
   ],
   "source": [
    "from sklearn.metrics import classification_report, confusion_matrix, accuracy_score\n",
    "\n",
    "# Generate evaluation metrics\n",
    "print(\"Confusion Matrix:\")\n",
    "print(confusion_matrix(y_true, y_pred))\n",
    "print(\"\\nClassification Report:\")\n",
    "print(classification_report(y_true, y_pred, zero_division=0))\n",
    "print(\"\\nAccuracy Score:\", accuracy_score(y_true, y_pred))"
   ]
  },
  {
   "cell_type": "code",
   "execution_count": 35,
   "metadata": {},
   "outputs": [
    {
     "data": {
      "image/png": "[encoded data removed]",
      "text/plain": [
       "<Figure size 800x600 with 2 Axes>"
      ]
     },
     "metadata": {},
     "output_type": "display_data"
    }
   ],
   "source": [
    "import matplotlib.pyplot as plt\n",
    "import seaborn as sns\n",
    "from sklearn.metrics import confusion_matrix\n",
    "\n",
    "# Generate the confusion matrix\n",
    "cm = confusion_matrix(y_true, y_pred)\n",
    "\n",
    "# Plot the confusion matrix\n",
    "plt.figure(figsize=(8, 6))\n",
    "sns.heatmap(cm, annot=True, fmt='d', cmap='Blues', xticklabels=[\"Class 0\", \"Class 1\"], yticklabels=[\"Class 0\", \"Class 1\"])\n",
    "plt.title(\"Confusion Matrix\")\n",
    "plt.xlabel(\"Predicted Label\")\n",
    "plt.ylabel(\"True Label\")\n",
    "plt.show()"
   ]
  },
  {
   "cell_type": "code",
   "execution_count": 34,
   "metadata": {},
   "outputs": [
    {
     "name": "stdout",
     "output_type": "stream",
     "text": [
      "Misclassified Transactions:\n",
      "          Time        V1         V2        V3        V4        V5        V6  \\\n",
      "55   -2.723139 -0.301091 -10.938181  0.028247 -1.005206 -2.173757  0.301311   \n",
      "184   0.928589 -2.094713 -11.856466  1.139251  0.290849 -2.776463 -0.858314   \n",
      "213  -3.898722 -2.406725  -7.746438 -0.902188  1.318074 -2.046650 -0.799934   \n",
      "225  -1.297098  4.287657   0.377437  1.368621 -1.343542 -5.174131  1.822230   \n",
      "523  -0.645420  2.244528   0.638881  0.488321  1.854590  4.638315 -6.299368   \n",
      "...        ...       ...        ...       ...       ...       ...       ...   \n",
      "9274 -4.035174 -1.396017  -5.757360 -1.224874  2.225145  0.818860 -0.271017   \n",
      "9374  1.684379 -3.013360   4.330975  1.524783  1.409825  0.938711 -0.410171   \n",
      "9388  0.774088 -0.259600  -2.630287 -0.695706 -1.545309 -1.496244 -1.933429   \n",
      "9771 -5.883470 -4.344248  -7.932377  0.094940  3.075853  2.814499  1.258604   \n",
      "9823 -2.497459 -0.804061  -4.422271  0.428184  0.551817  1.317948 -1.590958   \n",
      "\n",
      "            V7        V8        V9  ...        V21       V22       V23  \\\n",
      "55   -2.055542  2.799903 -0.738705  ...   2.597952 -0.206599  0.643532   \n",
      "184  -3.977098  0.602458  0.564946  ...   8.757411 -0.205683  1.017450   \n",
      "213  -0.277652  1.981454  0.453380  ...   7.778337 -0.386281 -0.459876   \n",
      "225  -2.184155 -1.444680  0.685902  ... -12.429105 -1.197769 -0.033049   \n",
      "523  -1.915923  3.198414  2.121239  ...   8.082332  3.480843  0.961668   \n",
      "...        ...       ...       ...  ...        ...       ...       ...   \n",
      "9274 -0.199320  5.931627 -0.315056  ...  12.422742 -4.851291 -0.743620   \n",
      "9374  0.730534 -5.013312  0.768483  ...  -7.147866  2.166851 -0.795665   \n",
      "9388 -0.683877 -1.241440 -0.620729  ...   2.114899 -1.152157  1.133215   \n",
      "9771 -1.383744  6.200861 -2.449910  ...  17.304338 -2.654157  0.421381   \n",
      "9823 -0.541768  2.991274 -0.333450  ...   8.303866 -0.792929  1.000882   \n",
      "\n",
      "           V24       V25       V26       V27       V28  Class    Amount  \n",
      "55    0.389855 -3.658842 -3.843559 -1.942570 -4.516453      1 -0.520562  \n",
      "184  -1.107956 -3.333620  0.410392 -3.049667  0.219873      1  0.666605  \n",
      "213  -3.324063  0.720719  3.103018  3.293534  3.003911      1  1.339229  \n",
      "225   1.938298 -1.985133  1.309507  1.584014 -1.488399      1  1.056374  \n",
      "523  -1.833082  2.093282 -5.818707 -0.478107  1.009450      1  0.672869  \n",
      "...        ...       ...       ...       ...       ...    ...       ...  \n",
      "9274 -2.132422  0.041194 -0.771849 -3.660616 -0.044732      1  0.203742  \n",
      "9374 -0.351286  4.326823 -2.280556  1.164913 -2.505233      1  2.540771  \n",
      "9388 -2.434951  3.185647  0.338478  0.878583 -1.917842      1 -0.144774  \n",
      "9771 -2.674098 -3.646060 -2.846909 -4.351700 -2.228690      1  0.531986  \n",
      "9823 -3.913240  2.270073 -0.316262 -0.148604  2.294073      1  0.947441  \n",
      "\n",
      "[113 rows x 31 columns]\n"
     ]
    }
   ],
   "source": [
    "misclassified = synthetic_df[y_true != y_pred]\n",
    "print(\"Misclassified Transactions:\")\n",
    "print(misclassified)"
   ]
  },
  {
   "cell_type": "markdown",
   "metadata": {},
   "source": [
    "Creating synthetic data using SMOTE"
   ]
  },
  {
   "cell_type": "code",
   "execution_count": 36,
   "metadata": {},
   "outputs": [],
   "source": [
    "import pandas as pd\n",
    "\n",
    "# Load the dataset\n",
    "df = pd.read_csv(\"../data/creditcard.csv\")\n",
    "\n",
    "# Split features and target\n",
    "X = df.drop('Class', axis=1)  # Features (exclude the target column)\n",
    "y = df['Class']  # Target column"
   ]
  },
  {
   "cell_type": "code",
   "execution_count": 37,
   "metadata": {},
   "outputs": [],
   "source": [
    "from sklearn.preprocessing import StandardScaler\n",
    "\n",
    "# Standardize features\n",
    "scaler = StandardScaler()\n",
    "X_scaled = scaler.fit_transform(X)"
   ]
  },
  {
   "cell_type": "code",
   "execution_count": 38,
   "metadata": {},
   "outputs": [
    {
     "name": "stdout",
     "output_type": "stream",
     "text": [
      "Original dataset shape: Class\n",
      "0    284315\n",
      "1       492\n",
      "Name: count, dtype: int64\n",
      "Resampled dataset shape: Class\n",
      "0    284315\n",
      "1    284315\n",
      "Name: count, dtype: int64\n"
     ]
    }
   ],
   "source": [
    "from imblearn.over_sampling import SMOTE\n",
    "\n",
    "# Initialize SMOTE\n",
    "smote = SMOTE(random_state=42)\n",
    "\n",
    "# Fit and resample the data\n",
    "X_resampled, y_resampled = smote.fit_resample(X_scaled, y)\n",
    "\n",
    "print(\"Original dataset shape:\", df['Class'].value_counts())\n",
    "print(\"Resampled dataset shape:\", pd.Series(y_resampled).value_counts())"
   ]
  },
  {
   "cell_type": "code",
   "execution_count": 39,
   "metadata": {},
   "outputs": [
    {
     "name": "stdout",
     "output_type": "stream",
     "text": [
      "Balanced synthetic dataset class distribution:\n",
      "Class\n",
      "0    284315\n",
      "1    284315\n",
      "Name: count, dtype: int64\n"
     ]
    }
   ],
   "source": [
    "import pandas as pd\n",
    "from sklearn.preprocessing import StandardScaler\n",
    "from imblearn.over_sampling import SMOTE\n",
    "import numpy as np\n",
    "\n",
    "# Load the dataset\n",
    "df = pd.read_csv(\"../data/creditcard.csv\")\n",
    "\n",
    "# Split features and target\n",
    "X = df.drop('Class', axis=1)\n",
    "y = df['Class']\n",
    "\n",
    "# Standardize features\n",
    "scaler = StandardScaler()\n",
    "X_scaled = scaler.fit_transform(X)\n",
    "\n",
    "# Apply SMOTE for the minority class\n",
    "smote = SMOTE(random_state=42)\n",
    "X_smote_resampled, y_smote_resampled = smote.fit_resample(X_scaled, y)\n",
    "\n",
    "# Balance the majority class by random undersampling\n",
    "fraud_df = df[df['Class'] == 1]\n",
    "non_fraud_df = df[df['Class'] == 0].sample(n=len(fraud_df), random_state=42)\n",
    "\n",
    "balanced_df = pd.concat([fraud_df, non_fraud_df])\n",
    "\n",
    "print(\"Balanced synthetic dataset class distribution:\")\n",
    "print(pd.Series(y_smote_resampled).value_counts())"
   ]
  },
  {
   "cell_type": "code",
   "execution_count": 40,
   "metadata": {},
   "outputs": [],
   "source": [
    "X_new = balanced_df.drop(columns=['Class'])  # Assuming 'Class' is the target\n",
    "y_true = balanced_df['Class']\n",
    "\n",
    "# Generate predictions\n",
    "y_pred = model.predict(X_new)"
   ]
  },
  {
   "cell_type": "code",
   "execution_count": 41,
   "metadata": {},
   "outputs": [
    {
     "name": "stdout",
     "output_type": "stream",
     "text": [
      "Confusion Matrix:\n",
      "[[492   0]\n",
      " [ 22 470]]\n",
      "\n",
      "Classification Report:\n",
      "              precision    recall  f1-score   support\n",
      "\n",
      "           0       0.96      1.00      0.98       492\n",
      "           1       1.00      0.96      0.98       492\n",
      "\n",
      "    accuracy                           0.98       984\n",
      "   macro avg       0.98      0.98      0.98       984\n",
      "weighted avg       0.98      0.98      0.98       984\n",
      "\n",
      "\n",
      "Accuracy Score: 0.9776422764227642\n"
     ]
    }
   ],
   "source": [
    "from sklearn.metrics import classification_report, confusion_matrix, accuracy_score\n",
    "\n",
    "# Generate evaluation metrics\n",
    "print(\"Confusion Matrix:\")\n",
    "print(confusion_matrix(y_true, y_pred))\n",
    "print(\"\\nClassification Report:\")\n",
    "print(classification_report(y_true, y_pred, zero_division=0))\n",
    "print(\"\\nAccuracy Score:\", accuracy_score(y_true, y_pred))"
   ]
  },
  {
   "cell_type": "code",
   "execution_count": 42,
   "metadata": {},
   "outputs": [
    {
     "data": {
      "image/png": "[encoded data removed]",
      "text/plain": [
       "<Figure size 800x600 with 2 Axes>"
      ]
     },
     "metadata": {},
     "output_type": "display_data"
    }
   ],
   "source": [
    "import matplotlib.pyplot as plt\n",
    "import seaborn as sns\n",
    "from sklearn.metrics import confusion_matrix\n",
    "\n",
    "# Generate the confusion matrix\n",
    "cm = confusion_matrix(y_true, y_pred)\n",
    "\n",
    "# Plot the confusion matrix\n",
    "plt.figure(figsize=(8, 6))\n",
    "sns.heatmap(cm, annot=True, fmt='d', cmap='Blues', xticklabels=[\"Class 0\", \"Class 1\"], yticklabels=[\"Class 0\", \"Class 1\"])\n",
    "plt.title(\"Confusion Matrix\")\n",
    "plt.xlabel(\"Predicted Label\")\n",
    "plt.ylabel(\"True Label\")\n",
    "plt.show()"
   ]
  },
  {
   "cell_type": "code",
   "execution_count": 43,
   "metadata": {},
   "outputs": [],
   "source": [
    "balanced_df.to_csv('../data/real_time_data.csv', index=False)"
   ]
  },
  {
   "cell_type": "code",
   "execution_count": 45,
   "metadata": {},
   "outputs": [
    {
     "name": "stdout",
     "output_type": "stream",
     "text": [
      "Shuffled data saved to: ../data/stream_real_time_data.csv\n"
     ]
    }
   ],
   "source": [
    "import pandas as pd\n",
    "\n",
    "# Load the CSV file\n",
    "csv_file_path = \"../data/real_time_data.csv\"\n",
    "df = pd.read_csv(csv_file_path)\n",
    "\n",
    "# Shuffle the DataFrame\n",
    "df = df.sample(frac=1, random_state=42).reset_index(drop=True)\n",
    "\n",
    "# Save the shuffled data back to a CSV\n",
    "shuffled_file_path = \"../data/stream_real_time_data.csv\"\n",
    "df.to_csv(shuffled_file_path, index=False)\n",
    "\n",
    "print(f\"Shuffled data saved to: {shuffled_file_path}\")"
   ]
  },
  {
   "cell_type": "code",
   "execution_count": null,
   "metadata": {},
   "outputs": [],
   "source": []
  }
 ],
 "metadata": {
  "kernelspec": {
   "display_name": "venv",
   "language": "python",
   "name": "python3"
  },
  "language_info": {
   "codemirror_mode": {
    "name": "ipython",
    "version": 3
   },
   "file_extension": ".py",
   "mimetype": "text/x-python",
   "name": "python",
   "nbconvert_exporter": "python",
   "pygments_lexer": "ipython3",
   "version": "3.12.8"
  }
 },
 "nbformat": 4,
 "nbformat_minor": 2
}
